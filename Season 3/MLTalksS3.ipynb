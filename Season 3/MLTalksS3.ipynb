{
 "cells": [
  {
   "attachments": {},
   "cell_type": "markdown",
   "metadata": {},
   "source": [
    "# WebScraping with Selenium"
   ]
  },
  {
   "attachments": {},
   "cell_type": "markdown",
   "metadata": {},
   "source": [
    "> Selenium is a web automation tool that allows you to automate web browser interaction from Python. It is used to automate web browser interaction from Python. \n",
    "> This notebook is a tutorial on how to scrape images from google images to create your own dataset for machine learning. This is a very useful technique to create your own dataset for machine learning."
   ]
  },
  {
   "attachments": {},
   "cell_type": "markdown",
   "metadata": {},
   "source": [
    "### PART 1 - Installation"
   ]
  },
  {
   "attachments": {},
   "cell_type": "markdown",
   "metadata": {},
   "source": [
    "> Download and install the latest version of **Anaconda** from [here](https://www.anaconda.com/products/individual).\n",
    "\n",
    "> Install **selenium** using **pip**. If you are using **Google Colab**, you can use the `!` operator to run shell commands. For example, to install selenium, you can use the following command:\n",
    "```python\n",
    "# install selenium\n",
    "!pip install selenium\n",
    "```\n",
    "Download the **ChromeDriver** from [here](https://chromedriver.chromium.org/downloads) at an appropriate location on your system. Make sure to download the version that matches your Chrome browser version.\n",
    "\n"
   ]
  },
  {
   "attachments": {},
   "cell_type": "markdown",
   "metadata": {},
   "source": [
    "### PART 2 - Importing the libraries"
   ]
  },
  {
   "cell_type": "code",
   "execution_count": 2,
   "metadata": {},
   "outputs": [],
   "source": [
    "import os\n",
    "import time\n",
    "import shutil\n",
    "\n",
    "from selenium import webdriver\n",
    "from selenium.webdriver.common.by import By\n",
    "from selenium.webdriver.common.keys import Keys\n",
    "from selenium.webdriver.chrome.options import Options\n",
    "from selenium.webdriver.chrome.service import Service\n",
    "from selenium.webdriver.support.ui import Select"
   ]
  },
  {
   "attachments": {},
   "cell_type": "markdown",
   "metadata": {},
   "source": [
    "Mention the path to the ChromeDriver in the `PATH_TO_CHROMEDRIVER` argument. You can find the path to the ChromeDriver by right-clicking on the ChromeDriver file and selecting `Copy path`. You can also use the `os` module to get the path to the ChromeDriver.\n"
   ]
  },
  {
   "cell_type": "code",
   "execution_count": 5,
   "metadata": {},
   "outputs": [],
   "source": [
    "PATH_TO_CHROMEDRIVER = \"D:/webdrivers/chromedriver.exe\""
   ]
  },
  {
   "attachments": {},
   "cell_type": "markdown",
   "metadata": {},
   "source": [
    "### PART 3 - Write your first Selenium Script"
   ]
  },
  {
   "cell_type": "code",
   "execution_count": 3,
   "metadata": {},
   "outputs": [
    {
     "ename": "NameError",
     "evalue": "name 'PATH_TO_CHROMEDRIVER' is not defined",
     "output_type": "error",
     "traceback": [
      "\u001b[1;31m---------------------------------------------------------------------------\u001b[0m",
      "\u001b[1;31mNameError\u001b[0m                                 Traceback (most recent call last)",
      "Cell \u001b[1;32mIn [3], line 5\u001b[0m\n\u001b[0;32m      2\u001b[0m options\u001b[39m.\u001b[39mpage_load_strategy \u001b[39m=\u001b[39m \u001b[39m'\u001b[39m\u001b[39mnormal\u001b[39m\u001b[39m'\u001b[39m\n\u001b[0;32m      4\u001b[0m \u001b[39m# Start the session\u001b[39;00m\n\u001b[1;32m----> 5\u001b[0m driver\u001b[39m=\u001b[39mwebdriver\u001b[39m.\u001b[39mChrome(options\u001b[39m=\u001b[39moptions,service\u001b[39m=\u001b[39mService(PATH_TO_CHROMEDRIVER))\n\u001b[0;32m      7\u001b[0m \u001b[39m# Navigate to the URL\u001b[39;00m\n\u001b[0;32m      8\u001b[0m driver\u001b[39m.\u001b[39mget(\u001b[39m\"\u001b[39m\u001b[39mhttps://www.selenium.dev/selenium/web/web-form.html\u001b[39m\u001b[39m\"\u001b[39m)\n",
      "\u001b[1;31mNameError\u001b[0m: name 'PATH_TO_CHROMEDRIVER' is not defined"
     ]
    }
   ],
   "source": [
    "options=Options()\n",
    "options.page_load_strategy = 'normal'\n",
    "\n",
    "# Start the session\n",
    "driver=webdriver.Chrome(options=options,service=Service(PATH_TO_CHROMEDRIVER))\n",
    "\n",
    "# Navigate to the URL\n",
    "driver.get(\"https://www.selenium.dev/selenium/web/web-form.html\")\n",
    "\n",
    "# Request browser Information\n",
    "title=driver.title\n",
    "\n",
    "# Establising Waiting Strategy\n",
    "driver.implicitly_wait(0.5)\n",
    "\n",
    "# Find the element\n",
    "text_box = driver.find_element(by=By.NAME, value=\"my-text\")\n",
    "submit_button = driver.find_element(by=By.CSS_SELECTOR, value=\"button\")\n",
    "\n",
    "# Take action on the element\n",
    "text_box.send_keys(\"Selenium\")\n",
    "submit_button.click()\n",
    "\n",
    "# Request element information\n",
    "message=driver.find_element(by=By.ID, value=\"message\")\n",
    "value=message.text\n",
    "print(value)\n",
    "\n",
    "# End the session\n",
    "driver.quit()"
   ]
  },
  {
   "attachments": {},
   "cell_type": "markdown",
   "metadata": {},
   "source": [
    "### PART 4 - Understanding Locator Strategies"
   ]
  },
  {
   "attachments": {},
   "cell_type": "markdown",
   "metadata": {},
   "source": [
    "#### Strategy 1 - By Class Name \n",
    "Use this when you want to locate an element by class name. With this strategy, the first element with the matching class name attribute will be returned. If no element has a matching class name attribute, a NoSuchElementException will be raised."
   ]
  },
  {
   "cell_type": "code",
   "execution_count": 6,
   "metadata": {},
   "outputs": [],
   "source": [
    "# Link Text Locator\n",
    "options=Options()\n",
    "options.page_load_strategy = 'normal'\n",
    "\n",
    "# Start the session\n",
    "driver=webdriver.Chrome(options=options,service=Service(PATH_TO_CHROMEDRIVER))\n",
    "query=\"solar panels\"\n",
    "driver.get(\"https://images.google.com/\")\n",
    "\n",
    "search_box=driver.find_element(by=By.CLASS_NAME,value=\"gLFyf\")\n",
    "search_box.send_keys(query)\n",
    "search_box.send_keys(Keys.ENTER)"
   ]
  },
  {
   "attachments": {},
   "cell_type": "markdown",
   "metadata": {},
   "source": [
    "#### Strategy 2 - By Link Text\n",
    "Use this when you know the link text used within an anchor tag. With this strategy, the first element with the link text matching the provided value will be returned. If no element has a matching link text attribute, a NoSuchElementException will be raised."
   ]
  },
  {
   "cell_type": "code",
   "execution_count": 7,
   "metadata": {},
   "outputs": [
    {
     "name": "stdout",
     "output_type": "stream",
     "text": [
      "Return to index\n"
     ]
    }
   ],
   "source": [
    "# Link Text Locator\n",
    "options=Options()\n",
    "options.page_load_strategy = 'normal'\n",
    "\n",
    "# Start the session\n",
    "driver=webdriver.Chrome(options=options,service=Service(PATH_TO_CHROMEDRIVER))\n",
    "driver.get(\"https://www.selenium.dev/selenium/web/web-form.html\")\n",
    "\n",
    "link=driver.find_element(by=By.LINK_TEXT,value=\"Return to index\")\n",
    "print(link.text)"
   ]
  },
  {
   "attachments": {},
   "cell_type": "markdown",
   "metadata": {},
   "source": [
    "#### Strategy 3 - By Partial Link Text"
   ]
  },
  {
   "cell_type": "code",
   "execution_count": 8,
   "metadata": {},
   "outputs": [
    {
     "name": "stdout",
     "output_type": "stream",
     "text": [
      "Return to index\n"
     ]
    }
   ],
   "source": [
    "# Partial Link Locator\n",
    "options=Options()\n",
    "options.page_load_strategy = 'normal'\n",
    "\n",
    "# Start the session\n",
    "driver=webdriver.Chrome(options=options,service=Service(PATH_TO_CHROMEDRIVER))\n",
    "\n",
    "driver.get(\"https://www.selenium.dev/selenium/web/web-form.html\")\n",
    "\n",
    "link=driver.find_element(by=By.PARTIAL_LINK_TEXT,value=\"Return\")\n",
    "print(link.text)"
   ]
  },
  {
   "attachments": {},
   "cell_type": "markdown",
   "metadata": {},
   "source": [
    "#### Strategy 4 - By Tag Name\n",
    "Use this when you want to locate an element by tag name. With this strategy, the first element with the given tag name will be returned. If no element has a matching tag name, a NoSuchElementException will be raised."
   ]
  },
  {
   "cell_type": "code",
   "execution_count": 9,
   "metadata": {},
   "outputs": [
    {
     "name": "stdout",
     "output_type": "stream",
     "text": [
      "Web form\n"
     ]
    }
   ],
   "source": [
    "#Tag Name Locator\n",
    "options=Options()\n",
    "options.page_load_strategy = 'normal'\n",
    "\n",
    "# Start the session\n",
    "driver=webdriver.Chrome(options=options,service=Service(PATH_TO_CHROMEDRIVER))\n",
    "\n",
    "driver.get(\"https://www.selenium.dev/selenium/web/web-form.html\")\n",
    "\n",
    "link=driver.find_element(by=By.TAG_NAME,value=\"h1\")\n",
    "print(link.text)"
   ]
  },
  {
   "attachments": {},
   "cell_type": "markdown",
   "metadata": {},
   "source": [
    "#### Strategy 5 - By ID\n",
    "Use this when you know the id attribute of an element. With this strategy, the first element with a matching id attribute will be returned. If no element has a matching id attribute, a NoSuchElementException will be raised."
   ]
  },
  {
   "cell_type": "code",
   "execution_count": 9,
   "metadata": {},
   "outputs": [],
   "source": [
    "# ID Locator\n",
    "options=Options()\n",
    "options.page_load_strategy = 'normal'\n",
    "\n",
    "# Start the session\n",
    "driver=webdriver.Chrome(options=options,service=Service(PATH_TO_CHROMEDRIVER))\n",
    "\n",
    "driver.get(\"https://www.selenium.dev/selenium/web/web-form.html\")\n",
    "\n",
    "link=driver.find_element(by=By.ID,value=\"my-check-1\").click()\n",
    "time.sleep(2)\n",
    "link=driver.find_element(by=By.ID,value=\"my-check-2\").click()\n",
    "time.sleep(2)\n",
    "link=driver.find_element(by=By.ID,value=\"my-radio-1\").click()\n",
    "time.sleep(2)\n",
    "link=driver.find_element(by=By.ID,value=\"my-radio-2\").click()\n",
    "time.sleep(2)"
   ]
  },
  {
   "attachments": {},
   "cell_type": "markdown",
   "metadata": {},
   "source": [
    "#### Strategy 6 - By Name\n",
    "Use this when you know the name attribute of an element. With this strategy, the first element with a matching name attribute will be returned. If no element has a matching name attribute, a NoSuchElementException will be raised."
   ]
  },
  {
   "cell_type": "code",
   "execution_count": 10,
   "metadata": {},
   "outputs": [],
   "source": [
    "# Name Locator\n",
    "options=Options()\n",
    "options.page_load_strategy = 'normal'\n",
    "\n",
    "# Start the session\n",
    "driver=webdriver.Chrome(options=options,service=Service(PATH_TO_CHROMEDRIVER))\n",
    "\n",
    "driver.get(\"https://www.selenium.dev/selenium/web/web-form.html\")\n",
    "\n",
    "link=driver.find_element(by=By.NAME,value=\"my-text\")\n",
    "time.sleep(2)\n",
    "link.send_keys(\"Selenium\")"
   ]
  }
 ],
 "metadata": {
  "kernelspec": {
   "display_name": "pytorchML",
   "language": "python",
   "name": "python3"
  },
  "language_info": {
   "codemirror_mode": {
    "name": "ipython",
    "version": 3
   },
   "file_extension": ".py",
   "mimetype": "text/x-python",
   "name": "python",
   "nbconvert_exporter": "python",
   "pygments_lexer": "ipython3",
   "version": "3.10.6"
  },
  "orig_nbformat": 4,
  "vscode": {
   "interpreter": {
    "hash": "f644ea3d0090735a2d7e1c5a44574a22cce71e235e391c5390fef51a9d413ba8"
   }
  }
 },
 "nbformat": 4,
 "nbformat_minor": 2
}
