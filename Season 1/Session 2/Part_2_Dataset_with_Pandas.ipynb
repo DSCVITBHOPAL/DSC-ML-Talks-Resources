{
  "nbformat": 4,
  "nbformat_minor": 0,
  "metadata": {
    "colab": {
      "name": "Part-2_Dataset with Pandas.ipynb",
      "provenance": [],
      "collapsed_sections": [],
      "toc_visible": true
    },
    "kernelspec": {
      "display_name": "Python 3",
      "language": "python",
      "name": "python3"
    },
    "language_info": {
      "codemirror_mode": {
        "name": "ipython",
        "version": 3
      },
      "file_extension": ".py",
      "mimetype": "text/x-python",
      "name": "python",
      "nbconvert_exporter": "python",
      "pygments_lexer": "ipython3",
      "version": "3.8.3"
    }
  },
  "cells": [
    {
      "cell_type": "markdown",
      "metadata": {
        "id": "2IYTGcwo1Rlo"
      },
      "source": [
        "# Data Analysis and Manipulation on a **DATASET** using Pandas\n",
        "---\n",
        "\n",
        "Now that we have looked into some of the key functionalities of pandas, let's dive deeper and explore how to work on a Real Dataset with pandas."
      ]
    },
    {
      "cell_type": "markdown",
      "metadata": {
        "id": "nV7UUGhcvXfp"
      },
      "source": [
        "##Importing dependencies"
      ]
    },
    {
      "cell_type": "code",
      "metadata": {
        "id": "07uCEliGvN6Y"
      },
      "source": [
        "import pandas as pd\n",
        "import numpy as np\n",
        "\n",
        "import warnings\n",
        "warnings.filterwarnings(\"ignore\")"
      ],
      "execution_count": null,
      "outputs": []
    },
    {
      "cell_type": "markdown",
      "metadata": {
        "id": "UCqpwydJ1Rlo"
      },
      "source": [
        "# **Reading the File**\n",
        "---\n",
        "\n",
        "Datasets come in variety of formats: TXT, CSV, EXCEL, JSON, etc.\n",
        "\n",
        "pandas has various different functions for each file format.\n",
        "\n",
        "Let's just discuss the CSV format today since it is one of the most commonly used format for standard datasets."
      ]
    },
    {
      "cell_type": "code",
      "metadata": {
        "id": "YGMJL7Jr1Rlo"
      },
      "source": [
        "path = \"/content/Titanic.csv\"\n",
        "df = pd.read_csv(path)\n",
        "df"
      ],
      "execution_count": null,
      "outputs": []
    },
    {
      "cell_type": "markdown",
      "metadata": {
        "id": "P3-n_E2B1Rlp"
      },
      "source": [
        "### EXERCISE: Use `df` and print only the last 5 samples from the dataset"
      ]
    },
    {
      "cell_type": "code",
      "metadata": {
        "id": "-okCszxe1Rlp"
      },
      "source": [
        "# write code in the line below"
      ],
      "execution_count": null,
      "outputs": []
    },
    {
      "cell_type": "markdown",
      "metadata": {
        "id": "rL2nEe-meqzl"
      },
      "source": [
        "# **Data Analysis**\r\n",
        "---\r\n",
        "\r\n",
        "Here, we'll try to extract some important insights on the data like distributions of specific features or relationship between two or more features. This portion will be covered extensively during the Upcoming ML Talks Sessions."
      ]
    },
    {
      "cell_type": "markdown",
      "metadata": {
        "id": "Cx2ai68S1Rlp"
      },
      "source": [
        "### A brief overview of the data type and the null count of the dataset\n",
        "\n",
        "df.info() provides a detailed log of the Number of non-null values present along with the Data Types of each Column."
      ]
    },
    {
      "cell_type": "code",
      "metadata": {
        "id": "dfclW1XP1Rlp"
      },
      "source": [
        "df.info()"
      ],
      "execution_count": null,
      "outputs": []
    },
    {
      "cell_type": "markdown",
      "metadata": {
        "id": "sHjeaVgf4O0c"
      },
      "source": [
        "Let's start analysing our data and try to gain some insights."
      ]
    },
    {
      "cell_type": "markdown",
      "metadata": {
        "id": "KKKlBXxTAuWc"
      },
      "source": [
        "### Passenger Survival count"
      ]
    },
    {
      "cell_type": "code",
      "metadata": {
        "id": "0nd5jDY5_8or"
      },
      "source": [
        "df.value_counts('Survived')"
      ],
      "execution_count": null,
      "outputs": []
    },
    {
      "cell_type": "markdown",
      "metadata": {
        "id": "B4B5dnUNBbx0"
      },
      "source": [
        "So, `549` passengers in total have died while `342` has survived.\r\n"
      ]
    },
    {
      "cell_type": "markdown",
      "metadata": {
        "id": "R15u13LWELvb"
      },
      "source": [
        "### Distribution of passengers w.r.t various columns\r\n",
        "---\r\n",
        "\r\n",
        "We used `groupby()` and `pivot_table()` functions for this. These functions help a lot in exploring the underlying relationships between the features and the target column.\r\n",
        "\r\n",
        "* `groupby()`: As the name suggests, it groups the input data by Series or columns as per our requirement.\r\n",
        "* `pivot_table()`: It creates a spreadsheet-style pivot table just like a DataFrame. It can be used for the same purpose as `groupby()`."
      ]
    },
    {
      "cell_type": "code",
      "metadata": {
        "id": "zYd4N_BPCXJc"
      },
      "source": [
        "df.groupby(['Sex', 'Embarked'])['Name'].count()"
      ],
      "execution_count": null,
      "outputs": []
    },
    {
      "cell_type": "markdown",
      "metadata": {
        "id": "mCw5KbfPHKD3"
      },
      "source": [
        "This tells us about the people and their genders from respective Ports of Embarkation."
      ]
    },
    {
      "cell_type": "code",
      "metadata": {
        "id": "1qFiqbSGEZh8"
      },
      "source": [
        "df.pivot_table('Survived', index='Sex', columns='Pclass') #single level pivot table"
      ],
      "execution_count": null,
      "outputs": []
    },
    {
      "cell_type": "markdown",
      "metadata": {
        "id": "0vInK9keIJIn"
      },
      "source": [
        "This tells us about the people and their genders from respective passenger class that were able to survive."
      ]
    },
    {
      "cell_type": "code",
      "metadata": {
        "id": "GDJt7uD5Mexj"
      },
      "source": [
        "age = pd.cut(df['Age'], [0, 18, 80])\r\n",
        "df.pivot_table('Survived', ['Sex', age], 'Pclass') #multi level pivot table"
      ],
      "execution_count": null,
      "outputs": []
    },
    {
      "cell_type": "markdown",
      "metadata": {
        "id": "qCVOJGdiMgcS"
      },
      "source": [
        "This tells us about the people, their gender and Age group(0-18 and 18-80) from respective passenger class that were able to survive."
      ]
    },
    {
      "cell_type": "markdown",
      "metadata": {
        "id": "AunvT9wpw1uM"
      },
      "source": [
        "# **Data Preprocessing**\r\n",
        "---\r\n",
        "\r\n",
        "Here, we'll manipulate / modify the data in order to make it suitable for feeding into the Machine Learning model. This portion covers the processes by pandas and further preprocessing techniques will be discussed during the Upcoming sessions. "
      ]
    },
    {
      "cell_type": "markdown",
      "metadata": {
        "id": "RQt5kxBCXIur"
      },
      "source": [
        "## Resolving missing values"
      ]
    },
    {
      "cell_type": "code",
      "metadata": {
        "id": "2oIucG9p8vNL"
      },
      "source": [
        "# To view the actual amount of missing values in each column\r\n",
        "df.isnull().sum()"
      ],
      "execution_count": null,
      "outputs": []
    },
    {
      "cell_type": "markdown",
      "metadata": {
        "id": "qiwtBBQZ1Rlp"
      },
      "source": [
        "It can be clearly seen that `Cabin`, `Age` and `Embarked` has missing values in them. \r\n",
        "* Since `Cabin` doesn't seem to be too important and has too many missing values, we'll drop the column.\r\n",
        "* `Age` and `Embarked` seems to be important and doesn't have much missing values in comparison, so we'll drop the rows with null values."
      ]
    },
    {
      "cell_type": "code",
      "metadata": {
        "id": "1JdDpaaq98En"
      },
      "source": [
        "df.drop('Cabin', axis=1, inplace=True) #dropping the Cabin column\r\n",
        "df.dropna(inplace=True)\r\n",
        "df"
      ],
      "execution_count": null,
      "outputs": []
    },
    {
      "cell_type": "markdown",
      "metadata": {
        "id": "azH2QlyO1Rlq"
      },
      "source": [
        "### EXERCISE: Instead of dropping the rows with missing values for `Age`, try filling them up using its `median`."
      ]
    },
    {
      "cell_type": "code",
      "metadata": {
        "id": "mhtNxEF91Rlq"
      },
      "source": [
        "# write code in the line below"
      ],
      "execution_count": null,
      "outputs": []
    },
    {
      "cell_type": "markdown",
      "metadata": {
        "id": "X8l3jMYnXRr6"
      },
      "source": [
        "## Extracting Required `features`\r\n",
        "\r\n"
      ]
    },
    {
      "cell_type": "markdown",
      "metadata": {
        "id": "ll55QtJRZHho"
      },
      "source": [
        "### Features"
      ]
    },
    {
      "cell_type": "code",
      "metadata": {
        "id": "7azQbfvWAZ0E"
      },
      "source": [
        "features = df[['Age', 'Embarked', 'Fare', 'Parch', 'Pclass', 'Sex', 'SibSp']]\r\n",
        "features"
      ],
      "execution_count": null,
      "outputs": []
    },
    {
      "cell_type": "markdown",
      "metadata": {
        "id": "ZFuX9ASlZJyw"
      },
      "source": [
        "### Target Column: Survived"
      ]
    },
    {
      "cell_type": "code",
      "metadata": {
        "cellView": "form",
        "id": "5lB4bUl1YybM"
      },
      "source": [
        "#@title EXERCISE: Extract and print the Target column from `df` (mention in the chat box) \n",
        "target = df['Survived']\n",
        "target"
      ],
      "execution_count": null,
      "outputs": []
    },
    {
      "cell_type": "markdown",
      "metadata": {
        "id": "vUjlGj-zZ-xx"
      },
      "source": [
        "## Converting Categorical features to numerical\r\n",
        "\r\n",
        "Machine Learning algorithms/models can't interpret an object/string data. So, we need to convert them into numerical ones."
      ]
    },
    {
      "cell_type": "code",
      "metadata": {
        "id": "SkW2nNZAZ3mm"
      },
      "source": [
        "convert_dict = {\r\n",
        "    'Embarked' : {'S' : 0,\r\n",
        "                  'C' : 1,\r\n",
        "                  'Q' : 2},\r\n",
        "    'Sex' : {'female' : 0,\r\n",
        "             'male' : 1}               \r\n",
        "}"
      ],
      "execution_count": null,
      "outputs": []
    },
    {
      "cell_type": "code",
      "metadata": {
        "id": "TE2-8C4da7G3"
      },
      "source": [
        "features.replace(convert_dict, inplace=True) # replacing the categorical data with numerical data defined in the dict\r\n",
        "features"
      ],
      "execution_count": null,
      "outputs": []
    },
    {
      "cell_type": "markdown",
      "metadata": {
        "id": "5rxskqEsmy1-"
      },
      "source": [
        "Now, both the features and target column contain numerical data and this ends a basic example of Data analysis and manipulation using pandas. We can further save our final DataFrames into CSV files for future use."
      ]
    },
    {
      "cell_type": "code",
      "metadata": {
        "id": "I-20GlGKfhgW"
      },
      "source": [
        "features.to_csv('Features.csv', index=False)\r\n",
        "target.to_csv('Target.csv', index=False)"
      ],
      "execution_count": null,
      "outputs": []
    }
  ]
}