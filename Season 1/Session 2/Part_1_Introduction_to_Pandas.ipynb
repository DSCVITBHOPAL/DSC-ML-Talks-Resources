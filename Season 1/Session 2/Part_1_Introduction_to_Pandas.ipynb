{
  "nbformat": 4,
  "nbformat_minor": 0,
  "metadata": {
    "colab": {
      "name": "Part_1_Introduction_to_Pandas.ipynb",
      "provenance": [],
      "collapsed_sections": []
    },
    "kernelspec": {
      "name": "python3",
      "display_name": "Python 3"
    }
  },
  "cells": [
    {
      "cell_type": "markdown",
      "metadata": {
        "id": "cpM5bsk0vSv3"
      },
      "source": [
        "# **Pandas**\n",
        "\n",
        "Let's get started with pandas"
      ]
    },
    {
      "cell_type": "markdown",
      "metadata": {
        "id": "XhcWKvrH1Rlc"
      },
      "source": [
        "### Installing pandas"
      ]
    },
    {
      "cell_type": "code",
      "metadata": {
        "id": "bzpApZgK1Rlc"
      },
      "source": [
        "!pip install pandas"
      ],
      "execution_count": null,
      "outputs": []
    },
    {
      "cell_type": "markdown",
      "metadata": {
        "id": "nV7UUGhcvXfp"
      },
      "source": [
        "##Importing dependencies"
      ]
    },
    {
      "cell_type": "code",
      "metadata": {
        "id": "07uCEliGvN6Y",
        "cellView": "form"
      },
      "source": [
        "#@title EXERCISE: Importing pandas\n",
        "import pandas as pd\n",
        "import numpy as np\n",
        "\n",
        "import warnings\n",
        "warnings.filterwarnings(\"ignore\")"
      ],
      "execution_count": null,
      "outputs": []
    },
    {
      "cell_type": "markdown",
      "metadata": {
        "id": "9hQvF_XCwH9p"
      },
      "source": [
        "# **Pandas Series**\n",
        "\n",
        "\n",
        "---\n",
        "Pandas series works like a one-dimensional array and it can hold any type of data such as int, float, string,etc. You can create a series using an array, list or even dictionary.\n",
        "* Command - pd.Series()\n"
      ]
    },
    {
      "cell_type": "code",
      "metadata": {
        "id": "TetpbDpJvazd"
      },
      "source": [
        "labels = ['a','b','c']\n",
        "my_data = [10,20,30] \n",
        "arr = np.array(my_data) #our array\n",
        "dic = {'a':10 , 'b':20, 'c':30} #our dictionary"
      ],
      "execution_count": null,
      "outputs": []
    },
    {
      "cell_type": "code",
      "metadata": {
        "id": "0zJlZ6gzwbTL"
      },
      "source": [
        "pd.Series(arr,labels) #by using our array"
      ],
      "execution_count": null,
      "outputs": []
    },
    {
      "cell_type": "code",
      "metadata": {
        "id": "ZWG5tCFlwnFp"
      },
      "source": [
        "ser = pd.Series(dic) #by using our dictionary\n",
        "print(ser)"
      ],
      "execution_count": null,
      "outputs": []
    },
    {
      "cell_type": "markdown",
      "metadata": {
        "id": "WgbK50FXwweL"
      },
      "source": [
        "To retrieve any value from a Pandas Series we just need to pass the index of the value that we wish to fetch"
      ]
    },
    {
      "cell_type": "code",
      "metadata": {
        "id": "eLuNjWFKwq09"
      },
      "source": [
        "print(ser['a']) #we used the index a which has the value of 10"
      ],
      "execution_count": null,
      "outputs": []
    },
    {
      "cell_type": "markdown",
      "metadata": {
        "id": "Y_9u4GaV1Rlh"
      },
      "source": [
        "### EXERCISE: Generate the same `Series` using only the initial `lists` and extract the data at label `c`."
      ]
    },
    {
      "cell_type": "code",
      "metadata": {
        "id": "ZKu1fPOA1Rlh"
      },
      "source": [
        "# write code in the line below"
      ],
      "execution_count": null,
      "outputs": []
    },
    {
      "cell_type": "markdown",
      "metadata": {
        "id": "5GQUldhPxCOa"
      },
      "source": [
        "We can also add two Pandas series in the following way"
      ]
    },
    {
      "cell_type": "code",
      "metadata": {
        "id": "QWCXaz10w6yj"
      },
      "source": [
        "ser1 = pd.Series([1,2,3,4],['a','b','c','d'])\n",
        "ser2 = pd.Series([1,2,5,4],['a','b','e','d'])\n",
        "ser3 = ser1 + ser2\n",
        "print(ser3)"
      ],
      "execution_count": null,
      "outputs": []
    },
    {
      "cell_type": "markdown",
      "metadata": {
        "id": "gNRAqNFaxPny"
      },
      "source": [
        "We never gave any NaN values in the series but in the resultant series we have  NaN values. We can see we have Nan values for index 'c' and 'e' and that is because in the first series the values of 'c' is 3 and value of 'e' is 5, now as these two index dont match with any other index in the series hence by default their values are given as NaN."
      ]
    },
    {
      "cell_type": "markdown",
      "metadata": {
        "id": "yUfrydbj5Ju-"
      },
      "source": [
        "# **Data Frames**\n",
        "\n",
        "---\n",
        "It's a two dimensional structure that stores the data in tabular format which can be changed and edited as per user's requirements. Just like Series we can make a Data frame as well using array, lists and dictionaries.\n",
        "* Command - pd.DataFrame(dimesnion,rows,columns)"
      ]
    },
    {
      "cell_type": "code",
      "metadata": {
        "id": "sXuD7IvrxKEP"
      },
      "source": [
        "from numpy.random import randn\n",
        "df = pd.DataFrame(randn(4,4),['A','B','C','D'],['W','X','Y','Z'])\n",
        "df"
      ],
      "execution_count": null,
      "outputs": []
    },
    {
      "cell_type": "markdown",
      "metadata": {
        "id": "HnxYShk5_kUK"
      },
      "source": [
        "As we can see we have our very own Dataframe. We used A,B,C,D as the rows and W,X,Y,Z as our columns. The random method just generates random number to fill up our DataFrame. We also mentioned dimensions for our DataFrame i.e. 4x4 as we mentioned 4 rows and 4 columns. We can also grab rows and columns and the information in these rows and column if we need to analyse them individually. The columns that we will grab will work as Series"
      ]
    },
    {
      "cell_type": "code",
      "metadata": {
        "id": "de4r64xc7xj4"
      },
      "source": [
        "print(df['W']) #grabbing a single column W"
      ],
      "execution_count": null,
      "outputs": []
    },
    {
      "cell_type": "code",
      "metadata": {
        "id": "pzrB6MMG_oVY"
      },
      "source": [
        "print(df[['W','X']]) #grabbing more than one list by passing in list of columns"
      ],
      "execution_count": null,
      "outputs": []
    },
    {
      "cell_type": "markdown",
      "metadata": {
        "id": "udgakhZG1Rlj"
      },
      "source": [
        "### EXERCISE: Create a DataFrame with random integers and extract the First and Last column from it."
      ]
    },
    {
      "cell_type": "code",
      "metadata": {
        "id": "Tvcv0EaM1Rlj"
      },
      "source": [
        "# write code in the line below"
      ],
      "execution_count": null,
      "outputs": []
    },
    {
      "cell_type": "markdown",
      "metadata": {
        "id": "RfZshwZDADEG"
      },
      "source": [
        "We can make changes to already existing Data Frames by adding or dropping columns. Many times the data that you have might have some columns that are not at all useful for your model so you might have to drop them from the Data Frame in order to make your model more accurate. Lets go ahead and take a look at how we can add and delete columns in our DataFrame.\n",
        "\n",
        "Command - \n",
        "* df['column_name'] - To add a new column we can use this command.\n",
        "* df.drop('column_name',axis = 1,inplace = True) - To drop a column from a Data Frame we can use this method. We also define the axis from which we wish to drop, so axis = 1 when we wish to drop a column and axis = 0 when we wish to drop a row. If we dont define the inplace = True, the column wont be dropped permanently from the DataFrame."
      ]
    },
    {
      "cell_type": "code",
      "metadata": {
        "id": "ygLxi4zK_rSj"
      },
      "source": [
        "df['new'] = df['X'] + df['Y']\n",
        "df.head()"
      ],
      "execution_count": null,
      "outputs": []
    },
    {
      "cell_type": "code",
      "metadata": {
        "id": "FBp1_3z3AZSc"
      },
      "source": [
        "df.drop('new',axis = 1,inplace = True)"
      ],
      "execution_count": null,
      "outputs": []
    },
    {
      "cell_type": "code",
      "metadata": {
        "id": "UxPY_Vp_AmOQ"
      },
      "source": [
        "df.head()"
      ],
      "execution_count": null,
      "outputs": []
    },
    {
      "cell_type": "markdown",
      "metadata": {
        "id": "IERfKErZA0co"
      },
      "source": [
        "As you can see, we added a new column to our data frame called 'new'. Then we dropped it using the .drop() method and when we call the head on our Data Frame, we can see that the column does not exist any more in the Data Frame."
      ]
    },
    {
      "cell_type": "markdown",
      "metadata": {
        "id": "w9OgbxZg1Rll"
      },
      "source": [
        "### EXERCISE: Remove the third row and show  the DataFrame created in the previous exercise."
      ]
    },
    {
      "cell_type": "code",
      "metadata": {
        "id": "G5vuI7jJ1Rll"
      },
      "source": [
        "# write code in the line below"
      ],
      "execution_count": null,
      "outputs": []
    },
    {
      "cell_type": "markdown",
      "metadata": {
        "id": "Dasewt9oB-u2"
      },
      "source": [
        "# **Selecting Rows and Columns**\n",
        "\n",
        "---\n",
        "In some cases you will need to select some specific rows and columns in order to analyse your data, in such cases method like '.loc' and '.iloc' come into picture. These will help you grab a row by either using the name of the row or by using the index. To grab a column just pass the column name in your DataFrame Object.\n",
        "\n",
        "Command -\n",
        "* df.loc['row_name'] - Helps in fetching the row by using the row name.\n",
        "* df.iloc[x] - Helps in fetching the row using the Index number(x).\n",
        "* df[[column_name]] - Helps in fetching the column using the Column name. Be careful with the two Square Brackets.\n",
        "\n"
      ]
    },
    {
      "cell_type": "code",
      "metadata": {
        "id": "Wl3b-0-7ArN-"
      },
      "source": [
        "df.loc['C'] #using .loc()"
      ],
      "execution_count": null,
      "outputs": []
    },
    {
      "cell_type": "code",
      "metadata": {
        "id": "LWC9eFR_C8OD"
      },
      "source": [
        "df.iloc[2] #using .iloc()"
      ],
      "execution_count": null,
      "outputs": []
    },
    {
      "cell_type": "code",
      "metadata": {
        "id": "mOsZVARODAqj"
      },
      "source": [
        "df[['X']] #fetching the column"
      ],
      "execution_count": null,
      "outputs": []
    },
    {
      "cell_type": "code",
      "metadata": {
        "id": "s7Ovjiv2DdkW"
      },
      "source": [
        "df.loc['B','Y'] #we can pass the row name and column name in .loc to get a specific value"
      ],
      "execution_count": null,
      "outputs": []
    },
    {
      "cell_type": "code",
      "metadata": {
        "id": "J_iFY1NIDf8O"
      },
      "source": [
        "df.loc[['A','B'],['W','Y']] #we passed the columns that we need and the rows that we need and we got the info that we needed"
      ],
      "execution_count": null,
      "outputs": []
    },
    {
      "cell_type": "markdown",
      "metadata": {
        "id": "gBdLf2nE1Rlm"
      },
      "source": [
        "### EXERCISE: Use the DataFrame created and formatted in the previous Exercises and extract the 2nd and 3rd rows from its 1st three columns."
      ]
    },
    {
      "cell_type": "code",
      "metadata": {
        "id": "j9iHCTJR1Rlm"
      },
      "source": [
        "# write code in the line below"
      ],
      "execution_count": null,
      "outputs": []
    },
    {
      "cell_type": "markdown",
      "metadata": {
        "id": "mVMhfJE7EWgK"
      },
      "source": [
        "# **Working with Missing data**\r\n",
        "\r\n",
        "---"
      ]
    },
    {
      "cell_type": "markdown",
      "metadata": {
        "id": "FXMo0G-iEwXr"
      },
      "source": [
        "Any data that you get will always have some sort of missing values, its very rare that you get a data without any missing values.In this section we will learn how to deal with the missing values."
      ]
    },
    {
      "cell_type": "code",
      "metadata": {
        "id": "ZcqVAxOiDiVE"
      },
      "source": [
        "d = {'A':[1,2,np.nan],'B':[5,np.nan,np.nan],'C':[1,2,3]} \n",
        "df1 = pd.DataFrame(d)\n",
        "print(df1)"
      ],
      "execution_count": null,
      "outputs": []
    },
    {
      "cell_type": "markdown",
      "metadata": {
        "id": "LElt2pWZE-ur"
      },
      "source": [
        "\n",
        "As we can see we have a new data set with NaN values in it and we will be performing all our operations on it. Many a times these NaN values are very less in number and can be discarded. For this purpose we use the '.dropna() method. This will drop all the NaN values in our data."
      ]
    },
    {
      "cell_type": "code",
      "metadata": {
        "id": "ePm3FB-xEcXg"
      },
      "source": [
        "df1.dropna() #dropped all the rows with NaN values"
      ],
      "execution_count": null,
      "outputs": []
    },
    {
      "cell_type": "markdown",
      "metadata": {
        "id": "uc78sd35FDFI"
      },
      "source": [
        "Sometimes the amount of NaN values might be huge so in that case we cant just discard them. We will have to fill them up. We use the .fillna() method to do so."
      ]
    },
    {
      "cell_type": "code",
      "metadata": {
        "id": "RIx7sUm9E6Vx"
      },
      "source": [
        "print(df1.fillna(value = 0)) #filling up all the NaN values with 0"
      ],
      "execution_count": null,
      "outputs": []
    },
    {
      "cell_type": "markdown",
      "metadata": {
        "id": "Pj4C4Id-FFuJ"
      },
      "source": [
        "### EXERCISE: Create a DataFrame with NaN values in it and fill them up using the mean of the 2nd Column."
      ]
    },
    {
      "cell_type": "code",
      "metadata": {
        "id": "1pCUSodB1Rlo"
      },
      "source": [
        "# write code in the line below"
      ],
      "execution_count": null,
      "outputs": []
    }
  ]
}