{
  "nbformat": 4,
  "nbformat_minor": 0,
  "metadata": {
    "colab": {
      "name": "GDSC.ipynb",
      "provenance": []
    },
    "kernelspec": {
      "name": "python3",
      "display_name": "Python 3"
    },
    "language_info": {
      "name": "python"
    },
    "accelerator": "GPU"
  },
  "cells": [
    {
      "cell_type": "code",
      "execution_count": 1,
      "metadata": {
        "id": "5UFNtdz6kYZK"
      },
      "outputs": [],
      "source": [
        "import tensorflow as tf\n",
        "from tensorflow.keras import layers\n",
        "import numpy as np"
      ]
    },
    {
      "cell_type": "code",
      "source": [
        "(X_train, y_train), (X_test, y_test) = tf.keras.datasets.mnist.load_data()"
      ],
      "metadata": {
        "id": "E4jiGg0Yko1k"
      },
      "execution_count": 2,
      "outputs": []
    },
    {
      "cell_type": "code",
      "source": [
        "import matplotlib.pyplot as plt\n",
        "n_images = 6\n",
        "fig, axes = plt.subplots(2, 3, figsize=(15, 10))\n",
        "indexes = np.random.randint(0, X_train.shape[0], n_images)\n",
        "count = 0\n",
        "for i in range(2):\n",
        "  for j in range(3):\n",
        "    axes[i][j].imshow(X_train[indexes[count]], cmap='gray')\n",
        "    axes[i][j].set_title(y_train[indexes[count]])\n",
        "    count += 1"
      ],
      "metadata": {
        "colab": {
          "base_uri": "https://localhost:8080/",
          "height": 607
        },
        "id": "kh8zHfXccYrE",
        "outputId": "1a3a0004-450c-4bef-f253-164c50dbc6d5"
      },
      "execution_count": 3,
      "outputs": [
        {
          "output_type": "display_data",
          "data": {
            "image/png": "[encoded data removed]",
            "text/plain": [
              "<Figure size 1080x720 with 6 Axes>"
            ]
          },
          "metadata": {
            "needs_background": "light"
          }
        }
      ]
    },
    {
      "cell_type": "code",
      "source": [
        "def build_model():\n",
        "  inputs = layers.Input(shape=(28, 28, 1))\n",
        "  x = layers.Flatten()(inputs)\n",
        "  x = layers.Dense(128, activation='relu')(x)\n",
        "  x = layers.Dense(64, activation='relu')(x)\n",
        "  x = layers.Dropout(0.3)(x)\n",
        "  outputs = layers.Dense(10, activation='softmax')(x)\n",
        "\n",
        "  model = tf.keras.Model(inputs=[inputs], outputs=[outputs], name='mnist_classifier')\n",
        "  return model"
      ],
      "metadata": {
        "id": "TvpdACpRkyzC"
      },
      "execution_count": 4,
      "outputs": []
    },
    {
      "cell_type": "code",
      "source": [
        "model = build_model()"
      ],
      "metadata": {
        "id": "IOY6s7zXlb7w"
      },
      "execution_count": 5,
      "outputs": []
    },
    {
      "cell_type": "code",
      "source": [
        "model.summary()"
      ],
      "metadata": {
        "colab": {
          "base_uri": "https://localhost:8080/"
        },
        "id": "q5rXdQ0wldmb",
        "outputId": "eeb88c41-9e32-4728-de20-540d541a3f72"
      },
      "execution_count": 6,
      "outputs": [
        {
          "output_type": "stream",
          "name": "stdout",
          "text": [
            "Model: \"mnist_classifier\"\n",
            "_________________________________________________________________\n",
            " Layer (type)                Output Shape              Param #   \n",
            "=================================================================\n",
            " input_1 (InputLayer)        [(None, 28, 28, 1)]       0         \n",
            "                                                                 \n",
            " flatten (Flatten)           (None, 784)               0         \n",
            "                                                                 \n",
            " dense (Dense)               (None, 128)               100480    \n",
            "                                                                 \n",
            " dense_1 (Dense)             (None, 64)                8256      \n",
            "                                                                 \n",
            " dropout (Dropout)           (None, 64)                0         \n",
            "                                                                 \n",
            " dense_2 (Dense)             (None, 10)                650       \n",
            "                                                                 \n",
            "=================================================================\n",
            "Total params: 109,386\n",
            "Trainable params: 109,386\n",
            "Non-trainable params: 0\n",
            "_________________________________________________________________\n"
          ]
        }
      ]
    },
    {
      "cell_type": "code",
      "source": [
        "X_test = tf.expand_dims(X_test / 255.0, -1)\n",
        "X_train = tf.expand_dims(X_train / 255.0, -1)"
      ],
      "metadata": {
        "id": "PrLvjx2OlhV1"
      },
      "execution_count": 7,
      "outputs": []
    },
    {
      "cell_type": "code",
      "source": [
        "model.compile(optimizer=tf.keras.optimizers.Adam(),\n",
        "              loss=tf.keras.losses.SparseCategoricalCrossentropy(from_logits=False),\n",
        "              metrics=['accuracy'])"
      ],
      "metadata": {
        "id": "Z2DZ__y-ltVd"
      },
      "execution_count": 8,
      "outputs": []
    },
    {
      "cell_type": "code",
      "source": [
        "history = model.fit(X_train, y_train, epochs=7, validation_data=(X_test, y_test))"
      ],
      "metadata": {
        "colab": {
          "base_uri": "https://localhost:8080/"
        },
        "id": "245OteJul8sS",
        "outputId": "fbb65fac-72f7-40cf-991d-35ebf4eacc4d"
      },
      "execution_count": 9,
      "outputs": [
        {
          "output_type": "stream",
          "name": "stdout",
          "text": [
            "Epoch 1/7\n",
            "1875/1875 [==============================] - 14s 6ms/step - loss: 0.3059 - accuracy: 0.9099 - val_loss: 0.1384 - val_accuracy: 0.9591\n",
            "Epoch 2/7\n",
            "1875/1875 [==============================] - 10s 5ms/step - loss: 0.1335 - accuracy: 0.9616 - val_loss: 0.1034 - val_accuracy: 0.9696\n",
            "Epoch 3/7\n",
            "1875/1875 [==============================] - 7s 4ms/step - loss: 0.0988 - accuracy: 0.9704 - val_loss: 0.0874 - val_accuracy: 0.9708\n",
            "Epoch 4/7\n",
            "1875/1875 [==============================] - 6s 3ms/step - loss: 0.0791 - accuracy: 0.9761 - val_loss: 0.0753 - val_accuracy: 0.9770\n",
            "Epoch 5/7\n",
            "1875/1875 [==============================] - 6s 3ms/step - loss: 0.0656 - accuracy: 0.9797 - val_loss: 0.0773 - val_accuracy: 0.9770\n",
            "Epoch 6/7\n",
            "1875/1875 [==============================] - 6s 3ms/step - loss: 0.0561 - accuracy: 0.9819 - val_loss: 0.0764 - val_accuracy: 0.9779\n",
            "Epoch 7/7\n",
            "1875/1875 [==============================] - 6s 3ms/step - loss: 0.0491 - accuracy: 0.9843 - val_loss: 0.0781 - val_accuracy: 0.9772\n"
          ]
        }
      ]
    },
    {
      "cell_type": "code",
      "source": [
        ""
      ],
      "metadata": {
        "id": "JogLi2jhmksD"
      },
      "execution_count": 9,
      "outputs": []
    }
  ]
}
